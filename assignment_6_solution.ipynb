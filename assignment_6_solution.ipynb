{
  "nbformat": 4,
  "nbformat_minor": 0,
  "metadata": {
    "colab": {
      "name": "assignment 6 solution",
      "provenance": []
    },
    "kernelspec": {
      "name": "python3",
      "display_name": "Python 3"
    }
  },
  "cells": [
    {
      "cell_type": "code",
      "metadata": {
        "id": "ygDw7qlP3PS7",
        "colab_type": "code",
        "outputId": "08f0ca61-57e7-4aaf-cc53-ce54c56f9485",
        "colab": {
          "base_uri": "https://localhost:8080/",
          "height": 268
        }
      },
      "source": [
        "import pandas as pd\n",
        "import numpy as np\n",
        "import matplotlib.pyplot as plt\n",
        "import seaborn as sns\n",
        "import seaborn as sn\n",
        "from sklearn import datasets\n",
        "from sklearn import preprocessing\n",
        "from sklearn.preprocessing import StandardScaler\n",
        "%matplotlib inline\n",
        "df=pd.read_csv('train.csv')\n",
        "test=pd.read_csv('test.csv')\n",
        "df.head\n",
        "print(df.shape)\n",
        "#from sklearn.model_selection import train_test_split\n",
        "#x_train,y_train,x_test,y_test=train_test_split(x_train,y_train,random=12,stratify=y)\n",
        "X=df.drop('subscribed',axis=1)\n",
        "y=df['subscribed']\n",
        "#df.fillna(0,inplace=NaN)\n",
        "X=pd.get_dummies(X)\n",
        "from sklearn.model_selection import train_test_split\n",
        "X_train,X_test,y_train,y_test=train_test_split(X,y,random_state=12,stratify=y)\n",
        "from sklearn.linear_model import LogisticRegression\n",
        "logreg=LogisticRegression()\n",
        "#x_scaled=preprocessing.scale(x_train)\n",
        "#X_train=pd.get_dummies(X_train)\n",
        "#print(X_train.shape)\n",
        "#X_scaled=preprocessing.scale(X_train)\n",
        "#print(X_scaled)\n",
        "#y_train=pd.get_dummies(y_train)\n",
        "#print(y_train.shape)\n",
        "#X_test=pd.get_dummies(X_test)\n",
        "#print(X_test.shape)\n",
        "#X_scaled1=preprocessing.scale(X_test)\n",
        "#print(X_scaled1)\n",
        "#y_test=pd.get_dummies(y_test)\n",
        "#print(y_test.shape)\n",
        "#scaler=StandardScaler()\n",
        "#scaler.fit_transform(X_train)\n",
        "#scaler.transform(X_test)\n",
        "logreg.fit(X_train,y_train)\n",
        "pred=logreg.predict(X_test)\n",
        "print(pred)\n",
        "print(logreg.score(X_train,y_train))\n",
        "print(logreg.score(X_test,y_test))\n",
        "from sklearn.metrics import accuracy_score\n",
        "print(accuracy_score(y_test,pred))\n",
        "\n",
        "\n"
      ],
      "execution_count": 0,
      "outputs": [
        {
          "output_type": "stream",
          "text": [
            "(31647, 18)\n",
            "['no' 'no' 'no' ... 'no' 'no' 'no']\n",
            "0.888476932799663\n",
            "0.8904196157735086\n",
            "0.8904196157735086\n"
          ],
          "name": "stdout"
        },
        {
          "output_type": "stream",
          "text": [
            "/usr/local/lib/python3.6/dist-packages/sklearn/linear_model/_logistic.py:940: ConvergenceWarning: lbfgs failed to converge (status=1):\n",
            "STOP: TOTAL NO. of ITERATIONS REACHED LIMIT.\n",
            "\n",
            "Increase the number of iterations (max_iter) or scale the data as shown in:\n",
            "    https://scikit-learn.org/stable/modules/preprocessing.html\n",
            "Please also refer to the documentation for alternative solver options:\n",
            "    https://scikit-learn.org/stable/modules/linear_model.html#logistic-regression\n",
            "  extra_warning_msg=_LOGISTIC_SOLVER_CONVERGENCE_MSG)\n"
          ],
          "name": "stderr"
        }
      ]
    },
    {
      "cell_type": "code",
      "metadata": {
        "id": "gzAQr7XWFA81",
        "colab_type": "code",
        "outputId": "85007809-8236-4392-8e76-ff072e8dd147",
        "colab": {
          "base_uri": "https://localhost:8080/",
          "height": 35
        }
      },
      "source": [
        "df.isnull().sum()\n",
        "#df.head\n",
        "pred\n",
        "X.shape\n",
        "y.shape"
      ],
      "execution_count": 0,
      "outputs": [
        {
          "output_type": "execute_result",
          "data": {
            "text/plain": [
              "(31647,)"
            ]
          },
          "metadata": {
            "tags": []
          },
          "execution_count": 43
        }
      ]
    },
    {
      "cell_type": "code",
      "metadata": {
        "id": "C2UC3g0EeCbj",
        "colab_type": "code",
        "outputId": "bdd9b88f-2f35-4865-a455-64e9e4a7e6d4",
        "colab": {
          "base_uri": "https://localhost:8080/",
          "height": 586
        }
      },
      "source": [
        "import pandas as pd\n",
        "from sklearn.tree import DecisionTreeClassifier\n",
        "clf=DecisionTreeClassifier(max_depth=4)\n",
        "clf.fit(X_train,y_train)\n",
        "print(clf.predict(X_train))\n",
        "print(clf.predict(X_test))\n",
        "print(y_train)\n",
        "print(X_test)\n",
        "print(accuracy_score(y_test,clf.predict(X_test)))\n",
        "test=pd.get_dummies(test)\n",
        "test_pred=clf.predict(test)\n",
        "print(test.shape)\n",
        "print(test_pred)\n",
        "print(clf.score(test,test_pred))\n",
        "submission=pd.DataFrame()\n",
        "submission['ID']=test['ID']\n",
        "submission['SUBSCRIBED']=test_pred\n",
        "submission.to_csv('submission.csv',header=True,index=False)\n",
        "\n",
        "\n"
      ],
      "execution_count": 0,
      "outputs": [
        {
          "output_type": "stream",
          "text": [
            "['no' 'no' 'no' ... 'no' 'no' 'no']\n",
            "['no' 'no' 'no' ... 'no' 'no' 'no']\n",
            "6428     no\n",
            "21332    no\n",
            "30688    no\n",
            "21459    no\n",
            "23831    no\n",
            "         ..\n",
            "6140     no\n",
            "9461     no\n",
            "11657    no\n",
            "5428     no\n",
            "28868    no\n",
            "Name: subscribed, Length: 23735, dtype: object\n",
            "          ID  age  balance  ...  poutcome_other  poutcome_success  poutcome_unknown\n",
            "30701  38995   27     -195  ...               0                 0                 1\n",
            "16062  20907   47      582  ...               0                 0                 1\n",
            "29614  27729   28     6100  ...               0                 0                 1\n",
            "7397   20770   37     4436  ...               0                 0                 1\n",
            "29948  23573   37     6743  ...               0                 0                 1\n",
            "...      ...  ...      ...  ...             ...               ...               ...\n",
            "22226  24082   57    19268  ...               0                 0                 1\n",
            "13722  10763   56     1046  ...               0                 0                 1\n",
            "7378   27753   38      316  ...               0                 1                 0\n",
            "26811  28773   60     2552  ...               1                 0                 0\n",
            "5996   41347   76     2632  ...               0                 0                 1\n",
            "\n",
            "[7912 rows x 52 columns]\n",
            "0.9089989888776542\n",
            "(13564, 52)\n",
            "['no' 'no' 'no' ... 'no' 'yes' 'no']\n",
            "1.0\n"
          ],
          "name": "stdout"
        }
      ]
    }
  ]
}