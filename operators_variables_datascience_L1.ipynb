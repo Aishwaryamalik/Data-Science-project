{
  "nbformat": 4,
  "nbformat_minor": 0,
  "metadata": {
    "colab": {
      "name": "operators variables datascience L1",
      "provenance": [],
      "collapsed_sections": []
    },
    "kernelspec": {
      "name": "python3",
      "display_name": "Python 3"
    }
  },
  "cells": [
    {
      "cell_type": "code",
      "metadata": {
        "id": "gEPKmvrU7J--",
        "colab_type": "code",
        "colab": {}
      },
      "source": [
        "'strimg'*'21'(not possible)"
      ],
      "execution_count": 0,
      "outputs": []
    },
    {
      "cell_type": "code",
      "metadata": {
        "id": "rlrl-eyU8L5Y",
        "colab_type": "code",
        "outputId": "2d7d4f6d-8411-473b-8291-3dc0afa146ba",
        "colab": {
          "base_uri": "https://localhost:8080/",
          "height": 35
        }
      },
      "source": [
        "#using AND operator\n",
        "3<5 and 5>3\n",
        "0 and 3\n",
        "True and False"
      ],
      "execution_count": 6,
      "outputs": [
        {
          "output_type": "execute_result",
          "data": {
            "text/plain": [
              "False"
            ]
          },
          "metadata": {
            "tags": []
          },
          "execution_count": 6
        }
      ]
    },
    {
      "cell_type": "code",
      "metadata": {
        "id": "3wwaVGhg0IRC",
        "colab_type": "code",
        "outputId": "69f4ed79-c612-4102-a3c1-ff577a6f5367",
        "colab": {
          "base_uri": "https://localhost:8080/",
          "height": 35
        }
      },
      "source": [
        "3<2 or 4<5\n",
        "3<5 or 5>3"
      ],
      "execution_count": 7,
      "outputs": [
        {
          "output_type": "execute_result",
          "data": {
            "text/plain": [
              "True"
            ]
          },
          "metadata": {
            "tags": []
          },
          "execution_count": 7
        }
      ]
    },
    {
      "cell_type": "code",
      "metadata": {
        "id": "XS1YBKiE838p",
        "colab_type": "code",
        "outputId": "37d03f28-5fe6-4529-b93d-1ebea11a43fa",
        "colab": {
          "base_uri": "https://localhost:8080/",
          "height": 35
        }
      },
      "source": [
        "#using not operator\n",
        "not 5"
      ],
      "execution_count": 8,
      "outputs": [
        {
          "output_type": "execute_result",
          "data": {
            "text/plain": [
              "False"
            ]
          },
          "metadata": {
            "tags": []
          },
          "execution_count": 8
        }
      ]
    },
    {
      "cell_type": "code",
      "metadata": {
        "id": "G-avS3x6AS-s",
        "colab_type": "code",
        "outputId": "61aeffb7-1a3b-4d41-bead-93f8ac539e69",
        "colab": {
          "base_uri": "https://localhost:8080/",
          "height": 35
        }
      },
      "source": [
        "#variables \n",
        "A=4\n",
        "print(A)"
      ],
      "execution_count": 9,
      "outputs": [
        {
          "output_type": "stream",
          "text": [
            "4\n"
          ],
          "name": "stdout"
        }
      ]
    },
    {
      "cell_type": "code",
      "metadata": {
        "id": "Yl2zRFFXAmuZ",
        "colab_type": "code",
        "colab": {
          "base_uri": "https://localhost:8080/",
          "height": 52
        },
        "outputId": "aaeac220-1f50-4d1e-bb6e-081c551c58b5"
      },
      "source": [
        "a=4\n",
        "print(a)\n",
        "print(A)"
      ],
      "execution_count": 10,
      "outputs": [
        {
          "output_type": "stream",
          "text": [
            "4\n",
            "4\n"
          ],
          "name": "stdout"
        }
      ]
    },
    {
      "cell_type": "code",
      "metadata": {
        "id": "-yOUcg6pA4I_",
        "colab_type": "code",
        "colab": {
          "base_uri": "https://localhost:8080/",
          "height": 52
        },
        "outputId": "f057380b-cade-4536-b6c0-3d6f199aa6fe"
      },
      "source": [
        "a=6\n",
        "b=a\n",
        "a=3\n",
        "print(a)\n",
        "print(b)\n"
      ],
      "execution_count": 11,
      "outputs": [
        {
          "output_type": "stream",
          "text": [
            "3\n",
            "6\n"
          ],
          "name": "stdout"
        }
      ]
    },
    {
      "cell_type": "code",
      "metadata": {
        "id": "yqVAcVjlB7sr",
        "colab_type": "code",
        "colab": {}
      },
      "source": [
        "#variable naming rules\n",
        "a=5\n",
        "_a=5\n",
        "@a=5(gives an error)\n",
        "1a=5(gives an error)\n"
      ],
      "execution_count": 0,
      "outputs": []
    },
    {
      "cell_type": "code",
      "metadata": {
        "id": "3O-ZF_j1CieW",
        "colab_type": "code",
        "outputId": "d9a9f7f0-ddc4-46fb-b636-072b8e4924a1",
        "colab": {
          "base_uri": "https://localhost:8080/",
          "height": 35
        }
      },
      "source": [
        "#data types\n",
        "a=5\n",
        "type(a)\n",
        "b='isha'\n",
        "type(b)"
      ],
      "execution_count": 13,
      "outputs": [
        {
          "output_type": "execute_result",
          "data": {
            "text/plain": [
              "str"
            ]
          },
          "metadata": {
            "tags": []
          },
          "execution_count": 13
        }
      ]
    }
  ]
}