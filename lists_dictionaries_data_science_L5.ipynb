{
  "nbformat": 4,
  "nbformat_minor": 0,
  "metadata": {
    "colab": {
      "name": "lists dictionaries data science L5",
      "provenance": [],
      "collapsed_sections": []
    },
    "kernelspec": {
      "name": "python3",
      "display_name": "Python 3"
    }
  },
  "cells": [
    {
      "cell_type": "code",
      "metadata": {
        "id": "rOEuBsXniW7C",
        "colab_type": "code",
        "outputId": "1581beea-7ff4-4bed-f3d6-f9e9dc870342",
        "colab": {
          "base_uri": "https://localhost:8080/",
          "height": 35
        }
      },
      "source": [
        "# Creating a list\n",
        "marks=[1,'a',2,'h',6,'t']\n",
        "marks\n",
        "\n"
      ],
      "execution_count": 15,
      "outputs": [
        {
          "output_type": "execute_result",
          "data": {
            "text/plain": [
              "[1, 'a', 2, 'h', 6, 't']"
            ]
          },
          "metadata": {
            "tags": []
          },
          "execution_count": 15
        }
      ]
    },
    {
      "cell_type": "code",
      "metadata": {
        "id": "SnClOvXGj_0o",
        "colab_type": "code",
        "outputId": "186ac224-5ab4-4d89-b08d-29a5378e3027",
        "colab": {
          "base_uri": "https://localhost:8080/",
          "height": 35
        }
      },
      "source": [
        "marks[3]\n",
        "marks[1:6]"
      ],
      "execution_count": 16,
      "outputs": [
        {
          "output_type": "execute_result",
          "data": {
            "text/plain": [
              "['a', 2, 'h', 6, 't']"
            ]
          },
          "metadata": {
            "tags": []
          },
          "execution_count": 16
        }
      ]
    },
    {
      "cell_type": "code",
      "metadata": {
        "id": "r0ptL3NkkXWh",
        "colab_type": "code",
        "outputId": "4ce90ba7-2fb1-4ff2-83e2-fd970cd5ee2d",
        "colab": {
          "base_uri": "https://localhost:8080/",
          "height": 35
        }
      },
      "source": [
        "# adding a element\n",
        "marks.append(5)\n",
        "marks\n"
      ],
      "execution_count": 17,
      "outputs": [
        {
          "output_type": "execute_result",
          "data": {
            "text/plain": [
              "[1, 'a', 2, 'h', 6, 't', 5]"
            ]
          },
          "metadata": {
            "tags": []
          },
          "execution_count": 17
        }
      ]
    },
    {
      "cell_type": "code",
      "metadata": {
        "id": "Gvj6dBS_k83k",
        "colab_type": "code",
        "outputId": "fb4d0b23-cd3d-462f-9012-eb7ad039db5f",
        "colab": {
          "base_uri": "https://localhost:8080/",
          "height": 35
        }
      },
      "source": [
        "# adding mulitple elements\n",
        "marks.extend(['s','a',8])\n",
        "marks"
      ],
      "execution_count": 18,
      "outputs": [
        {
          "output_type": "execute_result",
          "data": {
            "text/plain": [
              "[1, 'a', 2, 'h', 6, 't', 5, 's', 'a', 8]"
            ]
          },
          "metadata": {
            "tags": []
          },
          "execution_count": 18
        }
      ]
    },
    {
      "cell_type": "code",
      "metadata": {
        "id": "acbBw_I5lcWZ",
        "colab_type": "code",
        "outputId": "a02b5171-2af6-4d37-8a69-d90f85907832",
        "colab": {
          "base_uri": "https://localhost:8080/",
          "height": 35
        }
      },
      "source": [
        "# adding list to a list\n",
        "marks.append([7,8])\n",
        "marks"
      ],
      "execution_count": 19,
      "outputs": [
        {
          "output_type": "execute_result",
          "data": {
            "text/plain": [
              "[1, 'a', 2, 'h', 6, 't', 5, 's', 'a', 8, [7, 8]]"
            ]
          },
          "metadata": {
            "tags": []
          },
          "execution_count": 19
        }
      ]
    },
    {
      "cell_type": "code",
      "metadata": {
        "id": "WCs4Scivl21V",
        "colab_type": "code",
        "colab": {
          "base_uri": "https://localhost:8080/",
          "height": 35
        },
        "outputId": "a1676691-d334-4bec-ab6d-155850952152"
      },
      "source": [
        "# adding two list \n",
        "marks.extend([['r',10],[5,'o']])\n",
        "marks"
      ],
      "execution_count": 20,
      "outputs": [
        {
          "output_type": "execute_result",
          "data": {
            "text/plain": [
              "[1, 'a', 2, 'h', 6, 't', 5, 's', 'a', 8, [7, 8], ['r', 10], [5, 'o']]"
            ]
          },
          "metadata": {
            "tags": []
          },
          "execution_count": 20
        }
      ]
    },
    {
      "cell_type": "code",
      "metadata": {
        "id": "-dT4dz1gmrmt",
        "colab_type": "code",
        "outputId": "cc401313-a42c-4f9a-cfe6-96330f6fdc3c",
        "colab": {
          "base_uri": "https://localhost:8080/",
          "height": 35
        }
      },
      "source": [
        "# deleting element\n",
        "del marks[4]\n",
        "marks"
      ],
      "execution_count": 21,
      "outputs": [
        {
          "output_type": "execute_result",
          "data": {
            "text/plain": [
              "[1, 'a', 2, 'h', 't', 5, 's', 'a', 8, [7, 8], ['r', 10], [5, 'o']]"
            ]
          },
          "metadata": {
            "tags": []
          },
          "execution_count": 21
        }
      ]
    },
    {
      "cell_type": "code",
      "metadata": {
        "id": "8u-MeyAZm96l",
        "colab_type": "code",
        "colab": {
          "base_uri": "https://localhost:8080/",
          "height": 35
        },
        "outputId": "105fcd49-e020-46d7-be74-4e46567a663f"
      },
      "source": [
        "# remove element\n",
        "marks.remove('a')\n",
        "marks"
      ],
      "execution_count": 23,
      "outputs": [
        {
          "output_type": "execute_result",
          "data": {
            "text/plain": [
              "[1, 2, 'h', 't', 5, 's', 'a', 8, [7, 8], ['r', 10], [5, 'o']]"
            ]
          },
          "metadata": {
            "tags": []
          },
          "execution_count": 23
        }
      ]
    },
    {
      "cell_type": "code",
      "metadata": {
        "id": "r0jG_vcknlv5",
        "colab_type": "code",
        "colab": {
          "base_uri": "https://localhost:8080/",
          "height": 212
        },
        "outputId": "f1c16dfd-6edc-4c2d-b0ac-d9869c9d4750"
      },
      "source": [
        "# accessing list in elements\n",
        "for mark in marks:\n",
        "  print(mark)\n",
        "\n",
        "  "
      ],
      "execution_count": 24,
      "outputs": [
        {
          "output_type": "stream",
          "text": [
            "1\n",
            "2\n",
            "h\n",
            "t\n",
            "5\n",
            "s\n",
            "a\n",
            "8\n",
            "[7, 8]\n",
            "['r', 10]\n",
            "[5, 'o']\n"
          ],
          "name": "stdout"
        }
      ]
    },
    {
      "cell_type": "code",
      "metadata": {
        "id": "xKm4Iv4moHxD",
        "colab_type": "code",
        "colab": {
          "base_uri": "https://localhost:8080/",
          "height": 195
        },
        "outputId": "077f07ac-1584-484d-da48-c6a5c8b86017"
      },
      "source": [
        "l=[3,6,8,1,5]\n",
        "for i in l:\n",
        "  print(i)\n",
        "  print(i+1)"
      ],
      "execution_count": 25,
      "outputs": [
        {
          "output_type": "stream",
          "text": [
            "3\n",
            "4\n",
            "6\n",
            "7\n",
            "8\n",
            "9\n",
            "1\n",
            "2\n",
            "5\n",
            "6\n"
          ],
          "name": "stdout"
        }
      ]
    },
    {
      "cell_type": "code",
      "metadata": {
        "id": "HRs0-EuTs0kx",
        "colab_type": "code",
        "outputId": "a4070ac5-72d5-4bf2-e814-12776b29a6d1",
        "colab": {
          "base_uri": "https://localhost:8080/",
          "height": 35
        }
      },
      "source": [
        "# creating a dictionary\n",
        "marks={'history':56,'geo':78,'eco':73}\n",
        "marks"
      ],
      "execution_count": 26,
      "outputs": [
        {
          "output_type": "execute_result",
          "data": {
            "text/plain": [
              "{'eco': 73, 'geo': 78, 'history': 56}"
            ]
          },
          "metadata": {
            "tags": []
          },
          "execution_count": 26
        }
      ]
    },
    {
      "cell_type": "code",
      "metadata": {
        "id": "HaPENI4-s68e",
        "colab_type": "code",
        "outputId": "04c84a33-319f-48e0-87c5-52db09bb10da",
        "colab": {
          "base_uri": "https://localhost:8080/",
          "height": 35
        }
      },
      "source": [
        "# accessing elements\n",
        "marks['geo']\n"
      ],
      "execution_count": 27,
      "outputs": [
        {
          "output_type": "execute_result",
          "data": {
            "text/plain": [
              "78"
            ]
          },
          "metadata": {
            "tags": []
          },
          "execution_count": 27
        }
      ]
    },
    {
      "cell_type": "code",
      "metadata": {
        "id": "YBhs_ANTtijZ",
        "colab_type": "code",
        "outputId": "83548d6e-3662-4960-8a0d-4b1e7b6c5590",
        "colab": {
          "base_uri": "https://localhost:8080/",
          "height": 35
        }
      },
      "source": [
        "# adding element\n",
        "marks['civics']=83\n",
        "marks"
      ],
      "execution_count": 28,
      "outputs": [
        {
          "output_type": "execute_result",
          "data": {
            "text/plain": [
              "{'civics': 83, 'eco': 73, 'geo': 78, 'history': 56}"
            ]
          },
          "metadata": {
            "tags": []
          },
          "execution_count": 28
        }
      ]
    },
    {
      "cell_type": "code",
      "metadata": {
        "id": "Hp_CMHDos67c",
        "colab_type": "code",
        "colab": {
          "base_uri": "https://localhost:8080/",
          "height": 124
        },
        "outputId": "4b9c0f5b-4ed6-4d60-8a09-3c86a98d2c2d"
      },
      "source": [
        "# adding elementsss\n",
        "marks.update({'maths':[79,65],'english':58})\n",
        "marks"
      ],
      "execution_count": 30,
      "outputs": [
        {
          "output_type": "execute_result",
          "data": {
            "text/plain": [
              "{'civics': 83,\n",
              " 'eco': 73,\n",
              " 'english': 58,\n",
              " 'geo': 78,\n",
              " 'history': 56,\n",
              " 'maths': [79, 65]}"
            ]
          },
          "metadata": {
            "tags": []
          },
          "execution_count": 30
        }
      ]
    },
    {
      "cell_type": "code",
      "metadata": {
        "id": "3SVowvhZvoTR",
        "colab_type": "code",
        "outputId": "767e1be3-94df-4e83-93ec-9a7e7d038cbb",
        "colab": {
          "base_uri": "https://localhost:8080/",
          "height": 35
        }
      },
      "source": [
        "# deleting element\n",
        "del marks['english']\n",
        "marks"
      ],
      "execution_count": 31,
      "outputs": [
        {
          "output_type": "execute_result",
          "data": {
            "text/plain": [
              "{'civics': 83, 'eco': 73, 'geo': 78, 'history': 56, 'maths': [79, 65]}"
            ]
          },
          "metadata": {
            "tags": []
          },
          "execution_count": 31
        }
      ]
    }
  ]
}