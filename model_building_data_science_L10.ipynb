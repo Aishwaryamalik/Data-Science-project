{
  "nbformat": 4,
  "nbformat_minor": 0,
  "metadata": {
    "colab": {
      "name": "model building data science L10",
      "provenance": [],
      "collapsed_sections": []
    },
    "kernelspec": {
      "name": "python3",
      "display_name": "Python 3"
    }
  },
  "cells": [
    {
      "cell_type": "code",
      "metadata": {
        "id": "4A-y80SyORUP",
        "colab_type": "code",
        "outputId": "22f1fcaa-a39b-433f-8d4c-81e83e0d2b4d",
        "colab": {
          "base_uri": "https://localhost:8080/",
          "height": 390
        }
      },
      "source": [
        "#linear regression\n",
        "import pandas as pd\n",
        "import numpy as np\n",
        "import matplotlib.pyplot as plt\n",
        "from sklearn import datasets\n",
        "%matplotlib inline\n",
        "df=pd.read_csv('SCHOOL.csv')\n",
        "print(df.shape)\n",
        "df=pd.get_dummies(df)\n",
        "train=df[0:5]\n",
        "test=df[5:]\n",
        "print(train.shape)\n",
        "print(test.shape)\n",
        "print(train.head())\n",
        "print(test.head())\n",
        "x_train=train.drop('PERCENTAGE',axis=1)\n",
        "y_train=train['PERCENTAGE']\n",
        "x_test=test.drop('PERCENTAGE',axis=1)\n",
        "y_test=test['PERCENTAGE']\n",
        "from sklearn.linear_model import LinearRegression\n",
        "lreg=LinearRegression()\n",
        "#lreg.fit(x_train,y_train)\n",
        "x_train=pd.get_dummies(x_train)\n",
        "x_train.fillna(0,inplace=True)\n",
        "x_test=pd.get_dummies(x_test)\n",
        "x_test.fillna(0,inplace=True)\n",
        "lreg.fit(x_train,y_train)\n",
        "print(x_train.shape)\n",
        "print(x_test.shape)\n",
        "\n",
        "\n",
        "\n",
        "\n",
        "\n"
      ],
      "execution_count": 0,
      "outputs": [
        {
          "output_type": "stream",
          "text": [
            "(10, 11)\n",
            "(5, 21)\n",
            "(5, 21)\n",
            "   S_ID  Unnamed: 2  ENGLISH  ...  STUDENT_NAME_TINA JAIN  MARK_FAIL  MARK_PASS\n",
            "0     1         NaN       45  ...                       0          0          1\n",
            "1     2         NaN       46  ...                       1          0          1\n",
            "2     3         NaN       38  ...                       0          0          1\n",
            "3     4         NaN       43  ...                       0          0          1\n",
            "4     5         NaN       41  ...                       0          0          1\n",
            "\n",
            "[5 rows x 21 columns]\n",
            "   S_ID  Unnamed: 2  ENGLISH  ...  STUDENT_NAME_TINA JAIN  MARK_FAIL  MARK_PASS\n",
            "5     6         NaN       45  ...                       0          0          1\n",
            "6     7         NaN       47  ...                       0          0          1\n",
            "7     8         NaN       27  ...                       0          1          0\n",
            "8     9         NaN       38  ...                       0          0          1\n",
            "9    10         NaN       40  ...                       0          0          1\n",
            "\n",
            "[5 rows x 21 columns]\n",
            "(5, 20)\n",
            "(5, 20)\n"
          ],
          "name": "stdout"
        }
      ]
    },
    {
      "cell_type": "code",
      "metadata": {
        "id": "MJQNz7bfTH9G",
        "colab_type": "code",
        "outputId": "9a1e5c5c-b645-49e7-b9e7-4095fd423ba6",
        "colab": {
          "base_uri": "https://localhost:8080/",
          "height": 35
        }
      },
      "source": [
        "pred=lreg.predict(x_test)\n",
        "pred\n",
        "#perforamnce of our model r2\n",
        "lreg.score(x_test,y_test)\n",
        "lreg.score(x_train,y_train)\n"
      ],
      "execution_count": 0,
      "outputs": [
        {
          "output_type": "execute_result",
          "data": {
            "text/plain": [
              "1.0"
            ]
          },
          "metadata": {
            "tags": []
          },
          "execution_count": 34
        }
      ]
    },
    {
      "cell_type": "code",
      "metadata": {
        "id": "288aSUg-Xwtq",
        "colab_type": "code",
        "outputId": "23a38eda-16f3-42d9-e5e0-9bed7a2e2657",
        "colab": {
          "base_uri": "https://localhost:8080/",
          "height": 372
        }
      },
      "source": [
        "#logistic regression\n",
        "import pandas as pd\n",
        "import numpy as np\n",
        "import matplotlib.pyplot as plt\n",
        "from sklearn import datasets\n",
        "%matplotlib inline\n",
        "df1=pd.read_csv('FEES.csv')\n",
        "print(df1.shape)\n",
        "#df1=pd.get_dummies(df1)\n",
        "#df1[\"BUS\"].replace('NO',0,inplace=True)\n",
        "#df1[\"BUS\"].replace('YES',1,inplace=True)\n",
        "train=df1[0:5]\n",
        "test=df1[5:]\n",
        "print(train.shape)\n",
        "print(test.shape)\n",
        "print(train.head())\n",
        "print(test.head())\n",
        "x_train=train.drop('BUS',axis=1)\n",
        "y_train=train['BUS']\n",
        "x_test=test.drop('BUS',axis=1)\n",
        "y_test=test['BUS']\n",
        "from sklearn.linear_model import LogisticRegression\n",
        "logreg=LogisticRegression()\n",
        "x_train=pd.get_dummies(x_train)\n",
        "x_train.fillna(0,inplace=True)\n",
        "x_test=pd.get_dummies(x_test)\n",
        "x_test.fillna(0,inplace=True)\n",
        "logreg.fit(x_train,y_train)\n",
        "print(x_train.shape)\n",
        "print(x_test.shape)\n",
        "pred=logreg.predict(x_test)\n",
        "print(pred)\n",
        "print(logreg.score(x_train,y_train))\n",
        "print(logreg.score(x_test,y_test))\n"
      ],
      "execution_count": 0,
      "outputs": [
        {
          "output_type": "stream",
          "text": [
            "(10, 4)\n",
            "(5, 4)\n",
            "(5, 4)\n",
            "   S_ID   STUDENT_NAME    fees  BUS\n",
            "0     1    ADITI ANAND  50,000  YES\n",
            "1     2      TINA JAIN  45,000  YES\n",
            "2     3   RAHUL SHARMA  40,000   NO\n",
            "3     4  ALISHA SHARMA  55,000  YES\n",
            "4     5  RASHMI TALWAR  42,000   NO\n",
            "   S_ID  STUDENT_NAME    fees  BUS\n",
            "5     6    ISHA MALIK  50,000  YES\n",
            "6     7  MAHIRA VIJAY  45,000  YES\n",
            "7     8   ALIA SHARMA  35,000   NO\n",
            "8     9  ROHAN TIWARI  40,000   NO\n",
            "9    10  AYUSH LAXKAR  42,000   NO\n",
            "(5, 11)\n",
            "(5, 11)\n",
            "['NO' 'NO' 'NO' 'NO' 'NO']\n",
            "1.0\n",
            "0.6\n"
          ],
          "name": "stdout"
        }
      ]
    },
    {
      "cell_type": "code",
      "metadata": {
        "id": "bxn4baIcJCSl",
        "colab_type": "code",
        "outputId": "7b38e1af-7dc5-46a3-d0c4-3a1679694853",
        "colab": {
          "base_uri": "https://localhost:8080/",
          "height": 230
        }
      },
      "source": [
        "# decision trees\n",
        "import pandas as pd\n",
        "import numpy as np\n",
        "from pandas.api.types import CategoricalDtype\n",
        "df2=pd.read_csv('FEES.csv')\n",
        "#df2=pd.get_dummies(df2)\n",
        "#df2['BUS'].replace('NO',0,inplace=True)\n",
        "#df2['BUS'].replace('YES',1,inplace=True)\n",
        "df2=df2.astype('category')\n",
        "x=df2.drop('BUS',axis=1)\n",
        "y=df2['BUS']\n",
        "df2=pd.get_dummies(df2)\n",
        "from sklearn.model_selection import train_test_split\n",
        "train_x,test_x,train_y,test_y=train_test_split(x,y,random_state=1,stratify=y)\n",
        "#print(train_y.value_counts()/len(train_y))\n",
        "#print(test_y.value_counts()/len(test_y))\n",
        "#import DecisionTreeClassifier\n",
        "from sklearn.tree import DecisionTreeClassifier\n",
        "clf=DecisionTreeClassifier()\n",
        "train_x=pd.get_dummies(train_x)\n",
        "train_y=pd.get_dummies(train_y)\n",
        "test_x=pd.get_dummies(test_x)\n",
        "test_y=pd.get_dummies(test_y)\n",
        "clf.fit(train_x,train_y)\n",
        "print(clf.predict(train_x))\n",
        "#df2['BUS'].replace(0,'NO',inplace=True)\n",
        "#df2['BUS'].replace(1,'YES',inplace=True)\n",
        "print(clf.score(train_x,train_y))\n",
        "print(clf.score(test_x,test_y))\n",
        "print(clf.predict(test_x))\n"
      ],
      "execution_count": 0,
      "outputs": [
        {
          "output_type": "stream",
          "text": [
            "[[1 0]\n",
            " [1 0]\n",
            " [0 1]\n",
            " [0 1]\n",
            " [1 0]\n",
            " [0 1]\n",
            " [1 0]]\n",
            "1.0\n",
            "0.6666666666666666\n",
            "[[0 1]\n",
            " [0 1]\n",
            " [0 1]]\n"
          ],
          "name": "stdout"
        }
      ]
    },
    {
      "cell_type": "code",
      "metadata": {
        "id": "zeiu_aBcMu8X",
        "colab_type": "code",
        "colab": {}
      },
      "source": [
        "#df2.info\n",
        "test_x.info\n",
        "#train_x.shape\n",
        "#test_x.shape\n",
        "#train_x.info\n"
      ],
      "execution_count": 0,
      "outputs": []
    },
    {
      "cell_type": "code",
      "metadata": {
        "id": "HM4MKzEFY16L",
        "colab_type": "code",
        "outputId": "03a1259b-2341-4cef-df07-f40c0721453a",
        "colab": {
          "base_uri": "https://localhost:8080/",
          "height": 674
        }
      },
      "source": [
        "import pandas as pd\n",
        "import numpy as np\n",
        "import matplotlib.pyplot as plt\n",
        "from sklearn.cluster import KMeans \n",
        "%matplotlib inline\n",
        "df3=pd.read_csv('FEES.csv')\n",
        "print(df3.describe())\n",
        "df3=pd.get_dummies(df3)\n",
        "#df3['BUS'].replace('NO',0,inplace=True)\n",
        "#df3['BUS'].replace('YES',1,inplace=True)\n",
        "kmeans=KMeans(n_clusters=2).fit(df3)\n",
        "centroids=kmeans.cluster_centers_\n",
        "print(centroids)\n",
        "plt.scatter('BUS','fees',s=50,alpha=0.5)\n",
        "plt.scatter(centroids[:,:],centroids[:,:],marker=None,c='red',s=50)\n",
        "plt.show()\n",
        "pred=kmeans.predict(df3)\n",
        "print(pred)\n",
        "print(pd.Series(pred).value_counts())\n",
        "print(kmeans.inertia_)\n",
        "print(kmeans.score(df3))"
      ],
      "execution_count": 4,
      "outputs": [
        {
          "output_type": "stream",
          "text": [
            "           S_ID          fees\n",
            "count  10.00000     10.000000\n",
            "mean    5.50000  44400.000000\n",
            "std     3.02765   5910.442736\n",
            "min     1.00000  35000.000000\n",
            "25%     3.25000  40500.000000\n",
            "50%     5.50000  43500.000000\n",
            "75%     7.75000  48750.000000\n",
            "max    10.00000  55000.000000\n",
            "[[ 3.66666667e+00  5.16666667e+04  3.33333333e-01 -1.38777878e-17\n",
            "   3.33333333e-01 -1.38777878e-17  3.33333333e-01 -1.38777878e-17\n",
            "  -1.38777878e-17 -1.38777878e-17 -1.38777878e-17 -1.38777878e-17\n",
            "   0.00000000e+00  1.00000000e+00]\n",
            " [ 6.28571429e+00  4.12857143e+04  1.38777878e-17  1.42857143e-01\n",
            "   1.38777878e-17  1.42857143e-01  1.38777878e-17  1.42857143e-01\n",
            "   1.42857143e-01  1.42857143e-01  1.42857143e-01  1.42857143e-01\n",
            "   7.14285714e-01  2.85714286e-01]]\n"
          ],
          "name": "stdout"
        },
        {
          "output_type": "display_data",
          "data": {
            "image/png": "[encoded data removed]",
            "text/plain": [
              "<Figure size 432x288 with 1 Axes>"
            ]
          },
          "metadata": {
            "tags": [],
            "needs_background": "light"
          }
        },
        {
          "output_type": "stream",
          "text": [
            "[0 1 1 0 1 0 1 1 1 1]\n",
            "1    7\n",
            "0    3\n",
            "dtype: int64\n",
            "88095317.04761903\n",
            "-88095317.04761958\n"
          ],
          "name": "stdout"
        }
      ]
    },
    {
      "cell_type": "code",
      "metadata": {
        "id": "RVmkgurKsm-B",
        "colab_type": "code",
        "outputId": "e574784f-9c52-4c65-cd39-fad064424c9c",
        "colab": {
          "base_uri": "https://localhost:8080/",
          "height": 35
        }
      },
      "source": [
        "df3.shape"
      ],
      "execution_count": 0,
      "outputs": [
        {
          "output_type": "execute_result",
          "data": {
            "text/plain": [
              "(10, 19)"
            ]
          },
          "metadata": {
            "tags": []
          },
          "execution_count": 121
        }
      ]
    }
  ]
}